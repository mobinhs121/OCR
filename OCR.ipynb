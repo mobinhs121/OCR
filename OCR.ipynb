{
  "nbformat": 4,
  "nbformat_minor": 0,
  "metadata": {
    "colab": {
      "provenance": [],
      "authorship_tag": "ABX9TyPJaRYKLEoj/P3KuWqoB5Tp",
      "include_colab_link": true
    },
    "kernelspec": {
      "name": "python3",
      "display_name": "Python 3"
    },
    "language_info": {
      "name": "python"
    }
  },
  "cells": [
    {
      "cell_type": "markdown",
      "metadata": {
        "id": "view-in-github",
        "colab_type": "text"
      },
      "source": [
        "<a href=\"https://colab.research.google.com/github/mobinhs121/OCR/blob/main/OCR.ipynb\" target=\"_parent\"><img src=\"https://colab.research.google.com/assets/colab-badge.svg\" alt=\"Open In Colab\"/></a>"
      ]
    },
    {
      "cell_type": "code",
      "execution_count": null,
      "metadata": {
        "id": "Bbom06TRi-RU"
      },
      "outputs": [],
      "source": [
        "!mkdir ~/.kaggle\n",
        "!cp kaggle.json ~/.kaggle/\n",
        "!chmod 600 ~/.kaggle/kaggle.json\n",
        "\n",
        "!unzip /content/standard-ocr-dataset.zip\n",
        "!unzip /content/persianocrdataset.zip"
      ]
    },
    {
      "cell_type": "code",
      "source": [
        "import os\n",
        "import cv2\n",
        "import numpy as np\n",
        "import tensorflow as tf\n",
        "from tensorflow.keras import layers, models\n",
        "from sklearn.model_selection import train_test_split\n",
        "from sklearn.preprocessing import LabelEncoder\n",
        "from sklearn.metrics import accuracy_score\n",
        "\n",
        "# Data Preprocessing\n",
        "def preprocess_data(dataset_path):\n",
        "    images = []\n",
        "    labels = []\n",
        "\n",
        "    for root, dirs, files in os.walk(dataset_path):\n",
        "        for file in files:\n",
        "            if file.endswith(\".png\"):\n",
        "                image_path = os.path.join(root, file)\n",
        "                label = os.path.basename(os.path.dirname(image_path))\n",
        "\n",
        "                # Load and preprocess the image\n",
        "                image = cv2.imread(image_path, cv2.IMREAD_GRAYSCALE)\n",
        "                image = cv2.normalize(image, None, alpha=0, beta=255, norm_type=cv2.NORM_MINMAX)\n",
        "                image = cv2.equalizeHist(image)\n",
        "                image = cv2.GaussianBlur(image, (3, 3), 0)\n",
        "                images.append(image)\n",
        "                labels.append(label)\n",
        "\n",
        "    images = np.array(images)\n",
        "    labels = np.array(labels)\n",
        "\n",
        "    return images, labels\n",
        "\n",
        "# Load and preprocess the English dataset\n",
        "english_images, english_labels = preprocess_data('path/to/english_dataset')\n",
        "# Load and preprocess the Persian dataset\n",
        "persian_images, persian_labels = preprocess_data('path/to/persian_dataset')\n",
        "\n",
        "# Combine datasets\n",
        "images = np.concatenate((english_images, persian_images), axis=0)\n",
        "labels = np.concatenate((english_labels, persian_labels), axis=0)\n",
        "\n",
        "# Encode labels\n",
        "label_encoder = LabelEncoder()\n",
        "labels = label_encoder.fit_transform(labels)\n",
        "\n",
        "# Split data into training and testing sets\n",
        "X_train, X_test, y_train, y_test = train_test_split(images, labels, test_size=0.2, random_state=42)\n",
        "\n",
        "# Model Training\n",
        "model = models.Sequential([\n",
        "    layers.Flatten(input_shape=(X_train.shape[1], X_train.shape[2])),\n",
        "    layers.Dense(128, activation='relu'),\n",
        "    layers.Dropout(0.3),\n",
        "    layers.Dense(64, activation='relu'),\n",
        "    layers.Dense(2, activation='softmax')  # Two classes: English and Persian\n",
        "])\n",
        "\n",
        "model.compile(optimizer='adam',\n",
        "              loss='sparse_categorical_crossentropy',\n",
        "              metrics=['accuracy'])\n",
        "\n",
        "model.fit(X_train, y_train, epochs=10, batch_size=32, validation_split=0.2)\n",
        "\n",
        "# Evaluate the model\n",
        "y_pred = model.predict(X_test)\n",
        "y_pred = np.argmax(y_pred, axis=1)\n",
        "accuracy = accuracy_score(y_test, y_pred)\n",
        "print(f\"Model Accuracy: {accuracy * 100:.2f}%\")\n",
        "\n",
        "# Save the model\n",
        "model.save('text_detection_model.h5')\n",
        "\n",
        "# Test the model on new images using OpenCV\n",
        "def test_image(image_path, model):\n",
        "    image = cv2.imread(image_path, cv2.IMREAD_GRAYSCALE)\n",
        "    image = cv2.normalize(image, None, alpha=0, beta=255, norm_type=cv2.NORM_MINMAX)\n",
        "    image = cv2.equalizeHist(image)\n",
        "    image = cv2.GaussianBlur(image, (3, 3), 0)\n",
        "    image = np.expand_dims(image, axis=0)  # Add batch dimension\n",
        "    prediction = model.predict(image)\n",
        "    predicted_class = np.argmax(prediction)\n",
        "    predicted_class = label_encoder.inverse_transform([predicted_class])[0]\n",
        "    return predicted_class\n",
        "\n",
        "# Test the model on new images\n",
        "test_image_path = 'path/to/test_image.png'\n",
        "predicted_class = test_image(test_image_path, model)\n",
        "print(f\"Predicted Class for {test_image_path}: {predicted_class}\")\n"
      ],
      "metadata": {
        "id": "4Gj9qvEmjvVe"
      },
      "execution_count": null,
      "outputs": []
    }
  ]
}